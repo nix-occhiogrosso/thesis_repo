{
 "cells": [
  {
   "cell_type": "markdown",
   "id": "e5ccefc9-2fa9-4398-8b8b-73f0ef8d1f3c",
   "metadata": {},
   "source": [
    "# Thesis Code Analysis - Plotting Figures and Such"
   ]
  },
  {
   "cell_type": "markdown",
   "id": "67467b96-9160-4c31-8244-f0dba58868b7",
   "metadata": {},
   "source": [
    "## Importing Toolboxes"
   ]
  },
  {
   "cell_type": "code",
   "execution_count": null,
   "id": "7914f08a-3028-4dfd-a491-8536f58a1c38",
   "metadata": {},
   "outputs": [],
   "source": [
    "# Import toolboxes\n",
    "import matplotlib\n",
    "import matplotlib.pyplot as plt\n",
    "import xarray as xr\n",
    "import numpy as np\n",
    "import pandas as pd\n",
    "import datetime\n",
    "import glob\n",
    "import os"
   ]
  },
  {
   "cell_type": "markdown",
   "id": "ded37f5c-f910-45a2-b3b1-3233f4bdba2f",
   "metadata": {},
   "source": [
    "## Importing/Formatting Biomass Data"
   ]
  },
  {
   "cell_type": "markdown",
   "id": "451f50e6-c491-4983-834f-39b3758997d0",
   "metadata": {},
   "source": [
    "Credit to Dephine Mossman for the Derived Biomass dataset from the raw AZFP record onboard RU39. Without it, none of this would be possible!"
   ]
  },
  {
   "cell_type": "code",
   "execution_count": null,
   "id": "9581f919-4222-495a-9867-d12ffcb52650",
   "metadata": {
    "scrolled": true
   },
   "outputs": [],
   "source": [
    "# list all csv files only, then concat\n",
    "csv_files_1 = glob.glob('Derived Biomass Data 4_20/*.csv')\n",
    "csv_files_2 = glob.glob('Derived Biomass Data 11_3/*.csv')\n",
    "csv_files_3 = glob.glob('Derived Biomass Data 2_15/*.csv')"
   ]
  },
  {
   "cell_type": "code",
   "execution_count": null,
   "id": "bb77a06c-3634-416c-b1b4-c2a56f6b7dd6",
   "metadata": {
    "scrolled": true
   },
   "outputs": [],
   "source": [
    "concat_1 = pd.concat(map(pd.read_csv, csv_files_1), ignore_index=True)\n",
    "concat_2 = pd.concat(map(pd.read_csv, csv_files_2), ignore_index=True)\n",
    "concat_3 = pd.concat(map(pd.read_csv, csv_files_3), ignore_index=True)"
   ]
  },
  {
   "cell_type": "code",
   "execution_count": null,
   "id": "7ea0869b-871c-4339-8b1d-567eac47895b",
   "metadata": {},
   "outputs": [],
   "source": [
    "# Read in the Obs CSV for the dataset collecting in April 20th\n",
    "apr_df = concat_1[concat_1['Frequency'] == 455]\n",
    "# Do the same for the datasets from November 3rd and Febuary 15th\n",
    "nov_df = concat_2[concat_2['Frequency'] == 455]\n",
    "nov_df = concat_2.drop(concat_2[concat_2['Species'] == 'Larvacean'].index)\n",
    "nov_df = concat_2.drop(concat_2[concat_2['Species'] == 'Salp'].index)\n",
    "feb_df = concat_3[concat_3['Frequency'] == 455]\n",
    "feb_df = concat_3.drop(concat_3[concat_3['Species'] == 'Salp'].index)"
   ]
  },
  {
   "cell_type": "code",
   "execution_count": null,
   "id": "6b797b16-362b-4ab3-82d9-20c28a61d0b8",
   "metadata": {},
   "outputs": [],
   "source": [
    "# Create Log10 values\n",
    "apr_df['Abundance_base10'] = np.log10(apr_df['Abundance'])\n",
    "nov_df['Abundance_base10'] = np.log10(nov_df['Abundance'])\n",
    "feb_df['Abundance_base10'] = np.log10(feb_df['Abundance'])\n",
    "apr_df['Biomass_base10'] = np.log10(apr_df['Biomass'])\n",
    "nov_df['Biomass_base10'] = np.log10(nov_df['Biomass'])\n",
    "feb_df['Biomass_base10'] = np.log10(feb_df['Biomass'])"
   ]
  },
  {
   "cell_type": "code",
   "execution_count": null,
   "id": "6cbf1568-4943-4b37-8609-0a2c204de8b1",
   "metadata": {},
   "outputs": [],
   "source": [
    "# Convert \"datetime\" dataset to Datetime format\n",
    "apr_df['timestamp'] = pd.to_datetime(apr_df['Date_M']+ ' ' + apr_df['Time_M'], format='%Y-%m-%d %H:%M:%S.%f', infer_datetime_format=True)\n",
    "nov_df['timestamp'] = pd.to_datetime(nov_df['Date_M']+ ' ' + nov_df['Time_M'], format='%Y-%m-%d %H:%M:%S.%f' ,infer_datetime_format=True)\n",
    "feb_df['timestamp'] = pd.to_datetime(feb_df['Date_M']+ ' ' + feb_df['Time_M'], format='%Y-%m-%d %H:%M:%S.%f' ,infer_datetime_format=True)"
   ]
  },
  {
   "cell_type": "code",
   "execution_count": null,
   "id": "c5d49939-0455-42ac-a6d5-5939485836b6",
   "metadata": {},
   "outputs": [],
   "source": [
    "# apr_df.to_csv(r\"C:\\Users\\nixo1\\Desktop\\Thesis_Folder\\apr_df.csv\", index=False)\n",
    "# nov_df.to_csv(r\"C:\\Users\\nixo1\\Desktop\\Thesis_Folder\\nov_df.csv\", index=False)\n",
    "# feb_df.to_csv(r\"C:\\Users\\nixo1\\Desktop\\Thesis_Folder\\feb_df.csv\", index=False)"
   ]
  },
  {
   "cell_type": "markdown",
   "id": "3d8a439b-a7e7-4fab-b89a-e80ff889177d",
   "metadata": {},
   "source": [
    "## Importing & Formatting the ERDDAP Datasets"
   ]
  },
  {
   "cell_type": "code",
   "execution_count": null,
   "id": "50cb24ad-54c3-42d3-953f-2f6ad393e808",
   "metadata": {
    "scrolled": true
   },
   "outputs": [],
   "source": [
    "# Load in the URL for the Delayed Science data from tabledap \n",
    "url1  = 'https://slocum-data.marine.rutgers.edu/erddap/tabledap/ru39-20230420T1636-profile-sci-delayed.csv?time%2Clatitude%2Clongitude%2Cdepth%2Cbeta_700nm%2Ccdom%2Cchlorophyll_a%2Cconductivity%2Cdensity%2Cinstrument_ph%2CpH%2Cpressure%2Csalinity%2Ctemperature&time%3E=2023-04-20T16%3A36%3A28.28Z&time%3C=2023-05-12T18%3A10%3A56.60Z'\n",
    "url2  = 'https://slocum-data.marine.rutgers.edu/erddap/tabledap/ru39-20231103T1413-profile-sci-delayed.csv?time%2Clatitude%2Clongitude%2Cdepth%2Cbeta_700nm%2Ccdom%2Cchlorophyll_a%2Cconductivity%2Cdensity%2Cinstrument_ph%2CpH%2Cpressure%2Csalinity%2Ctemperature&time%3E=2023-11-03T14%3A13%3A03.00Z&time%3C=2023-12-05T20%3A53%3A59.89Z'\n",
    "url3  = 'https://slocum-data.marine.rutgers.edu/erddap/tabledap/ru39-20240215T1646-profile-sci-delayed.csv?time%2Clatitude%2Clongitude%2Cdepth%2Cbeta_700nm%2Ccdom%2Cchlorophyll_a%2Cconductivity%2Cdensity%2Cinstrument_ph%2CpH%2Cpressure%2Csalinity%2Ctemperature&time%3E=2024-02-15T16%3A46%3A42.00Z&time%3C=2024-03-14T18%3A15%3A07.82Z'"
   ]
  },
  {
   "cell_type": "code",
   "execution_count": null,
   "id": "ad497881-482b-4605-a3aa-b53c48a77ff5",
   "metadata": {},
   "outputs": [],
   "source": [
    "DE_420 = pd.read_csv(url1, sep=',', skiprows=range(1, 2), parse_dates=['time'])\n",
    "DE_1103 = pd.read_csv(url2, sep=',', skiprows=range(1, 2), parse_dates=['time'])\n",
    "DE_215 = pd.read_csv(url3, sep=',', skiprows=range(1, 2), parse_dates=['time'])"
   ]
  },
  {
   "cell_type": "code",
   "execution_count": null,
   "id": "c7f5e0d4-daa3-49b6-a389-b1ca4110d8e2",
   "metadata": {},
   "outputs": [],
   "source": [
    "DE_420['timestamp'] = DE_420['time'].dt.tz_localize(None)\n",
    "DE_1103['timestamp'] = DE_1103['time'].dt.tz_localize(None)\n",
    "DE_215['timestamp'] = DE_215['time'].dt.tz_localize(None)"
   ]
  },
  {
   "cell_type": "markdown",
   "id": "dd0e9724-f3bf-499f-9892-b415663bf54e",
   "metadata": {},
   "source": [
    "## Combining the time stamps!"
   ]
  },
  {
   "cell_type": "code",
   "execution_count": null,
   "id": "289303f0-7c00-4e20-b968-ef36d97a74d5",
   "metadata": {},
   "outputs": [],
   "source": [
    "## Start by matching the time values under the name \"timestamp\"\n",
    "DE_420 = DE_420.sort_values(['timestamp'])\n",
    "DE_1103 = DE_1103.sort_values(['timestamp'])\n",
    "DE_215 = DE_215.sort_values(['timestamp'])\n",
    "apr_df = apr_df.sort_values(['timestamp'])\n",
    "nov_df = nov_df.sort_values(['timestamp'])\n",
    "feb_df = feb_df.sort_values(['timestamp'])"
   ]
  },
  {
   "cell_type": "code",
   "execution_count": null,
   "id": "a99f3393-12d3-46af-9a5e-f593fbcecbc9",
   "metadata": {},
   "outputs": [],
   "source": [
    "###### This is the secret sauce that sorts the nearest timestamps between the two datasets\n",
    "apr_mix = pd.merge_asof(apr_df, DE_420, on=\"timestamp\", direction=\"nearest\")\n",
    "nov_mix = pd.merge_asof(nov_df, DE_1103, on=\"timestamp\", direction=\"nearest\")\n",
    "feb_mix = pd.merge_asof(feb_df, DE_215, on=\"timestamp\", direction=\"nearest\")"
   ]
  },
  {
   "cell_type": "code",
   "execution_count": null,
   "id": "f5ef77c2-f568-4b39-942a-dd0643768cc0",
   "metadata": {},
   "outputs": [],
   "source": [
    "# apr_mix.to_csv(r\"C:\\Users\\nixo1\\Desktop\\Thesis_Folder\\apr_mix.csv\")\n",
    "# nov_mix.to_csv(r\"C:\\Users\\nixo1\\Desktop\\Thesis_Folder\\nov_mix.csv\")\n",
    "# feb_mix.to_csv(r\"C:\\Users\\nixo1\\Desktop\\Thesis_Folder\\feb_mix.csv\")"
   ]
  },
  {
   "cell_type": "markdown",
   "id": "af0f324a-40bf-497c-8906-0da2790377bf",
   "metadata": {},
   "source": [
    "## Obtaining Mixed Depth Values"
   ]
  },
  {
   "cell_type": "markdown",
   "id": "0ace5af4-936f-4565-be0a-687b5a51652c",
   "metadata": {},
   "source": [
    "From \"Lori_Code.ipynb\" I can read the resulting NetCFD files as CSV. The original source code for conversion of file formats comes from: https://gist.github.com/copernicusmarinegist/b57417225d0d4ea47c5d6200f9d8cac3"
   ]
  },
  {
   "cell_type": "code",
   "execution_count": null,
   "id": "3a67e3de-676c-4f3d-9199-1b8ce606e85d",
   "metadata": {},
   "outputs": [],
   "source": [
    "# Replace 'local_storage_directory', 'netcdf_dir' and 'csv_dir'\n",
    "# the directory path, the directory path to netcdf files and the directory path to csv files\n",
    "local_storage_directory = r'/Users/nixo1/Desktop/Thesis_Folder/MLD/'\n",
    "netcdf_dir = local_storage_directory + r'NetCDF/'\n",
    "csv_dir = local_storage_directory + r'CSV/'"
   ]
  },
  {
   "cell_type": "code",
   "execution_count": null,
   "id": "a456f02b-eecf-470d-b3b9-db3c99bbc3b3",
   "metadata": {},
   "outputs": [],
   "source": [
    "# Set a loop to create a .csv file for each .nc file listed in `files_to_convert`\n",
    "for filename in os.listdir(netcdf_dir):\n",
    "    ds = xr.open_dataset(netcdf_dir + filename)\n",
    "    df = ds.to_dataframe()\n",
    "    df.to_csv(csv_dir + filename[:-3] + '.csv')\n",
    "    print (filename + ' has been processed to .csv')"
   ]
  },
  {
   "cell_type": "code",
   "execution_count": null,
   "id": "7e0e67a6-1c45-44f6-adba-16f1711f94ca",
   "metadata": {},
   "outputs": [],
   "source": [
    "MLD_420 = pd.read_csv(r\"C:\\Users\\nixo1\\Desktop\\Thesis_Folder\\MLD\\CSV\\ru39-20230420-mld.csv\", sep=',', skiprows=range(1, 2), parse_dates=['time'])\n",
    "MLD_1103 = pd.read_csv(r\"C:\\Users\\nixo1\\Desktop\\Thesis_Folder\\MLD\\CSV\\ru39-20231103-mld.csv\", sep=',', skiprows=range(1, 2), parse_dates=['time'])"
   ]
  },
  {
   "cell_type": "markdown",
   "id": "906d8ee3-4cac-4add-897b-af3b1c33fa01",
   "metadata": {},
   "source": [
    "Because of the all 'NaN' values, the Winter data set had to be split into two seperate df which can then be spliced back together. This may or may not be neccesary consideing that the winter profile technically had no mixed layer at all."
   ]
  },
  {
   "cell_type": "code",
   "execution_count": null,
   "id": "90fd8c4a-ed92-4062-af8b-05084929921e",
   "metadata": {},
   "outputs": [],
   "source": [
    "Slice1 = pd.read_csv(r\"C:\\Users\\nixo1\\Desktop\\Thesis_Folder\\MLD\\CSV\\ru39-20240215-slice1-mld.csv\", sep=',', skiprows=range(1, 2), parse_dates=['time'])\n",
    "Slice2 = pd.read_csv(r\"C:\\Users\\nixo1\\Desktop\\Thesis_Folder\\MLD\\CSV\\ru39-20240215-slice2-mld.csv\", sep=',', skiprows=range(1, 2), parse_dates=['time'])\n",
    "MLD_215 = pd.concat([Slice1,Slice2], ignore_index=False)"
   ]
  },
  {
   "cell_type": "code",
   "execution_count": null,
   "id": "9b29c8ab-34b4-42ed-82ee-c8b1f863541e",
   "metadata": {},
   "outputs": [],
   "source": [
    "MLD_420['timestamp'] = MLD_420['time'].dt.tz_localize(None)\n",
    "MLD_1103['timestamp'] = MLD_1103['time'].dt.tz_localize(None)\n",
    "MLD_215['timestamp'] = MLD_215['time'].dt.tz_localize(None)\n",
    "\n",
    "MLD_420 = MLD_420.sort_values(['timestamp'])\n",
    "MLD_1103 = MLD_1103.sort_values(['timestamp'])\n",
    "MLD_215 = MLD_215.sort_values(['timestamp'])"
   ]
  },
  {
   "cell_type": "code",
   "execution_count": null,
   "id": "35b2e8d8-bd48-4cc6-b766-756d1660939c",
   "metadata": {},
   "outputs": [],
   "source": [
    "# Sort the nearest timestamps between the two datasets\n",
    "apr_mix_mld = pd.merge_asof(apr_df, MLD_420, on=\"timestamp\", direction=\"nearest\")\n",
    "apr_mix_mld.to_csv(r\"C:\\Users\\nixo1\\Desktop\\Thesis_Folder\\apr_mix_mld.csv\")\n",
    "nov_mix_mld = pd.merge_asof(nov_df, MLD_1103, on=\"timestamp\", direction=\"nearest\")\n",
    "nov_mix_mld.to_csv(r\"C:\\Users\\nixo1\\Desktop\\Thesis_Folder\\nov_mix_mld.csv\")\n",
    "feb_mix_mld = pd.merge_asof(feb_df, MLD_215, on=\"timestamp\", direction=\"nearest\")\n",
    "feb_mix_mld.to_csv(r\"C:\\Users\\nixo1\\Desktop\\Thesis_Folder\\feb_mix_mld.csv\")"
   ]
  },
  {
   "cell_type": "markdown",
   "id": "0dfd73e2-7ffb-43b1-b331-3c4cb0b926a3",
   "metadata": {},
   "source": [
    "## Organizing of Isobaths"
   ]
  },
  {
   "cell_type": "code",
   "execution_count": null,
   "id": "5d710f37-f754-4d9f-9536-e158a52dfddd",
   "metadata": {},
   "outputs": [],
   "source": [
    "# Create seasons to help divide by isobath \n",
    "apr_mix['isobath'] = 'Spring 2023'\n",
    "nov_mix['isobath'] = 'Autumn 2023'\n",
    "feb_mix['isobath'] = 'Winter 2024'\n",
    "\n",
    "#Depth related data can be presented when diviing up the values into four distinct isobaths\n",
    "isobath_A1 = apr_mix.loc[(apr_mix['depth'] <= 20)]\n",
    "isobath_A2 = apr_mix.loc[(apr_mix['depth'] >= 20) & (apr_mix['depth'] <= 40)]\n",
    "isobath_A3 = apr_mix.loc[(apr_mix['depth'] >= 40) & (apr_mix['depth'] <= 60)]\n",
    "isobath_A4 = apr_mix.loc[(apr_mix['depth'] >= 60)]\n",
    "\n",
    "isobath_B1 = nov_mix.loc[(nov_mix['depth'] <= 20)]\n",
    "isobath_B2 = nov_mix.loc[(nov_mix['depth'] >= 20) & (nov_mix['depth'] <= 40)]\n",
    "isobath_B3 = nov_mix.loc[(nov_mix['depth'] >= 40) & (nov_mix['depth'] <= 60)]\n",
    "isobath_B4 = nov_mix.loc[(nov_mix['depth'] >= 60)]\n",
    "\n",
    "isobath_C1 = feb_mix.loc[(feb_mix['depth'] <= 20)]\n",
    "isobath_C2 = feb_mix.loc[(feb_mix['depth'] >= 20) & (feb_mix['depth'] <= 40)]\n",
    "isobath_C3 = feb_mix.loc[(feb_mix['depth'] >= 40) & (feb_mix['depth'] <= 60)]\n",
    "isobath_C4 = feb_mix.loc[(feb_mix['depth'] >= 60)]"
   ]
  },
  {
   "cell_type": "markdown",
   "id": "78bc320e-8e93-46e3-a652-a98397bc3dfc",
   "metadata": {},
   "source": [
    "Reorganize data to seperate by isobath:"
   ]
  },
  {
   "cell_type": "code",
   "execution_count": null,
   "id": "12467f50-7c9d-42ed-be8e-70e84d5bb613",
   "metadata": {},
   "outputs": [],
   "source": [
    "Isobath_20 = pd.concat([isobath_A1, isobath_B1, isobath_C1], axis=0)\n",
    "Isobath_20.replace([-np.inf], np.nan, inplace=True)\n",
    "Isobath_20 = Isobath_20[Isobath_20['Biomass_base10'].notna()]\n",
    "Isobath_20 = Isobath_20.reset_index(drop=True)\n",
    "Isobath_20.to_csv(r\"C:\\Users\\nixo1\\Desktop\\Thesis_Folder\\Isobath_20.csv\")"
   ]
  },
  {
   "cell_type": "code",
   "execution_count": null,
   "id": "46538b1b-454a-4913-869f-4959d8780c6f",
   "metadata": {},
   "outputs": [],
   "source": [
    "Isobath_40 = pd.concat([isobath_A2, isobath_B2, isobath_C2], axis=0)\n",
    "Isobath_40.replace([-np.inf], np.nan, inplace=True)\n",
    "Isobath_40 = Isobath_40[Isobath_40['Biomass_base10'].notna()]\n",
    "Isobath_40 = Isobath_40.reset_index(drop=True)\n",
    "Isobath_40.to_csv(r\"C:\\Users\\nixo1\\Desktop\\Thesis_Folder\\Isobath_40.csv\")"
   ]
  },
  {
   "cell_type": "code",
   "execution_count": null,
   "id": "68f600af-7e75-433d-9049-c2e0d786e755",
   "metadata": {},
   "outputs": [],
   "source": [
    "Isobath_60 = pd.concat([isobath_A3, isobath_B3, isobath_C3], axis=0)\n",
    "Isobath_60.replace([-np.inf], np.nan, inplace=True)\n",
    "Isobath_60 = Isobath_60[Isobath_60['Biomass_base10'].notna()]\n",
    "Isobath_60 = Isobath_60.reset_index(drop=True)\n",
    "Isobath_60.to_csv(r\"C:\\Users\\nixo1\\Desktop\\Thesis_Folder\\Isobath_60.csv\")"
   ]
  },
  {
   "cell_type": "code",
   "execution_count": null,
   "id": "bd5bd7fa-c063-42a8-8a9a-4ea94cb08f76",
   "metadata": {},
   "outputs": [],
   "source": [
    "Isobath_max = pd.concat([isobath_A4, isobath_B4, isobath_C4], axis=0)\n",
    "Isobath_max.replace([-np.inf], np.nan, inplace=True)\n",
    "Isobath_max = Isobath_max[Isobath_max['Biomass_base10'].notna()]\n",
    "Isobath_max = Isobath_max.reset_index(drop=True)\n",
    "Isobath_max.to_csv(r\"C:\\Users\\nixo1\\Desktop\\Thesis_Folder\\Isobath_max.csv\")"
   ]
  },
  {
   "cell_type": "markdown",
   "id": "7f04952f-833f-4e1c-ac2f-5b85a083ac5b",
   "metadata": {},
   "source": [
    "## Violin Plots (Depth Bin Averages)"
   ]
  },
  {
   "cell_type": "markdown",
   "id": "c22737da-eaf6-4622-93c5-6047a267f6b6",
   "metadata": {},
   "source": [
    "Out of the various types of plot, my advisors agreed that a violing plot is the most approraate way of showing the different isobaths by season. Statistical anaylsis can then be performed afterwards."
   ]
  },
  {
   "cell_type": "code",
   "execution_count": null,
   "id": "828570d0-b125-4f3f-9414-220bc307b16a",
   "metadata": {},
   "outputs": [],
   "source": [
    "import seaborn as sns\n",
    "import matplotlib.pyplot as plt\n",
    "\n",
    "sns.set()\n",
    "fig, (ax1,ax2,ax3,ax4) = plt.subplots(1,4, figsize=(18, 5))\n",
    "sns.violinplot(x=\"isobath\", y=\"Abundance_base10\", data=Isobath_20, cut=0, ax=ax1)\n",
    "sns.despine(left=True)\n",
    "sns.violinplot(x=\"isobath\", y=\"Abundance_base10\", data=Isobath_40, cut=0, ax=ax2)\n",
    "sns.despine(left=True)\n",
    "sns.violinplot(x=\"isobath\", y=\"Abundance_base10\", data=Isobath_60, cut=0, ax=ax3)\n",
    "sns.despine(left=True)\n",
    "sns.violinplot(x=\"isobath\", y=\"Abundance_base10\", data=Isobath_max, cut=0, ax=ax4)\n",
    "sns.despine(left=True)\n",
    "plt.savefig(\"violin1.png\")"
   ]
  },
  {
   "cell_type": "code",
   "execution_count": null,
   "id": "c8c2a292-7477-4d47-8a1e-26fbbc74616c",
   "metadata": {},
   "outputs": [],
   "source": [
    "import seaborn as sns\n",
    "import matplotlib.pyplot as plt\n",
    "\n",
    "sns.set()\n",
    "fig, (ax1,ax2,ax3,ax4) = plt.subplots(1,4, figsize=(18, 5))\n",
    "sns.violinplot(x=\"isobath\", y=\"Biomass_base10\", data=Isobath_20, cut=0, ax=ax1)\n",
    "sns.despine(left=True)\n",
    "sns.violinplot(x=\"isobath\", y=\"Biomass_base10\", data=Isobath_40, cut=0, ax=ax2)\n",
    "sns.despine(left=True)\n",
    "sns.violinplot(x=\"isobath\", y=\"Biomass_base10\", data=Isobath_60, cut=0, ax=ax3)\n",
    "sns.despine(left=True)\n",
    "sns.violinplot(x=\"isobath\", y=\"Biomass_base10\", data=Isobath_max, cut=0, ax=ax4)\n",
    "sns.despine(left=True)\n",
    "plt.savefig(\"violin2.png\")"
   ]
  },
  {
   "cell_type": "markdown",
   "id": "b07eca70-7e66-428f-ba67-b1bce0b8780b",
   "metadata": {},
   "source": [
    "## Scatterplots"
   ]
  },
  {
   "cell_type": "code",
   "execution_count": null,
   "id": "7e95b4a6-1984-4049-8bf2-cc388455b936",
   "metadata": {},
   "outputs": [],
   "source": [
    "fig,axs = plt.subplots(3,2, figsize=(15,12))\n",
    "\n",
    "axs[0,0].scatter(apr_mix['temperature'],apr_mix['Abundance_base10'],10,marker =\"o\")\n",
    "axs[0,0].scatter(nov_mix['temperature'],nov_mix['Abundance_base10'],10,marker =\"s\")\n",
    "axs[0,0].scatter(feb_mix['temperature'],feb_mix['Abundance_base10'],10,marker =\"^\")\n",
    "axs[0,0].set(xlabel='Temperature [°C]')\n",
    "\n",
    "axs[0,1].scatter(apr_mix['salinity'],apr_mix['Abundance_base10'],10,marker =\"o\")\n",
    "axs[0,1].scatter(nov_mix['salinity'],nov_mix['Abundance_base10'],10,marker =\"s\")\n",
    "axs[0,1].scatter(feb_mix['salinity'],feb_mix['Abundance_base10'],10,marker =\"^\")\n",
    "axs[0,1].set(xlabel='Salinity [psu]')\n",
    "\n",
    "axs[1,0].scatter(apr_mix['density'],apr_mix['Abundance_base10'],10,marker =\"o\")\n",
    "axs[1,0].scatter(nov_mix['density'],nov_mix['Abundance_base10'],10,marker =\"s\")\n",
    "axs[1,0].scatter(feb_mix['density'],feb_mix['Abundance_base10'],10,marker =\"^\")\n",
    "axs[1,0].set(xlabel='Density [kg m-1 s-1]')\n",
    "\n",
    "axs[1,1].scatter(apr_mix['chlorophyll_a'],apr_mix['Abundance_base10'],10,marker =\"o\")\n",
    "axs[1,1].scatter(nov_mix['chlorophyll_a'],nov_mix['Abundance_base10'],10,marker =\"s\")\n",
    "axs[1,1].scatter(feb_mix['chlorophyll_a'],feb_mix['Abundance_base10'],10,marker =\"^\")\n",
    "axs[1,1].set(xlabel='Chlorophyll [μg L-1]')\n",
    "\n",
    "axs[2,0].scatter(apr_mix['pH'],apr_mix['Abundance_base10'],10,marker =\"o\")\n",
    "axs[2,0].scatter(nov_mix['pH'],nov_mix['Abundance_base10'],10,marker =\"s\")\n",
    "axs[2,0].scatter(feb_mix['pH'],feb_mix['Abundance_base10'],10,marker =\"^\")\n",
    "axs[2,0].set(xlabel='pH')\n",
    "\n",
    "axs[2,1].scatter(apr_mix['cdom'],apr_mix['Abundance_base10'],10,marker =\"o\")\n",
    "axs[2,1].scatter(nov_mix['cdom'],nov_mix['Abundance_base10'],10,marker =\"s\")\n",
    "axs[2,1].scatter(feb_mix['cdom'],feb_mix['Abundance_base10'],10,marker =\"^\")\n",
    "axs[2,1].set(xlabel='CDOM')\n",
    "\n",
    "for ax in axs.flat:\n",
    "    ax.set(ylabel='Log10 of Abundance [individuals per m$^{{-3}}$]')\n",
    "    ax.legend([\"Spring 2023\" , \"Fall 2023\", \"Winter 2024\"])\n",
    "plt.tight_layout()\n",
    "plt.savefig(\"sixplots.png\")"
   ]
  },
  {
   "cell_type": "markdown",
   "id": "9c5f4d50-dde4-408d-8077-3c15eaa932d2",
   "metadata": {},
   "source": [
    "### April 20th to May 12th"
   ]
  },
  {
   "cell_type": "code",
   "execution_count": null,
   "id": "6b4eac2c-5c59-46f8-985d-f1a5396a60e3",
   "metadata": {},
   "outputs": [],
   "source": [
    "fig,axs = plt.subplots(3,2, figsize=(15,12))\n",
    "\n",
    "axs_1=axs[0,0].scatter(apr_mix['temperature'],apr_mix['Abundance_base10'],10,c = apr_df['timestamp'],cmap='cool')\n",
    "# axs[0,0].set_title('Log10 of Abundance [individuals per m$^{{-3}}$]')\n",
    "axs[0,0].set(xlabel='Temperature [°C]')\n",
    "\n",
    "axs_2=axs[0,1].scatter(apr_mix['salinity'],apr_mix['Abundance_base10'],10,c = apr_df['timestamp'],cmap='cool')\n",
    "# axs[0,1].set_title('Log10 of Abundance [individuals per m$^{{-3}}$]')\n",
    "axs[0,1].set(xlabel='Salinity [psu]')\n",
    "\n",
    "axs_3=axs[1,0].scatter(apr_mix['density'],apr_mix['Abundance_base10'],10,c = apr_df['timestamp'],cmap='cool')\n",
    "# axs[1,0].set_title('Log10 of Abundance [individuals per m$^{{-3}}$]')\n",
    "axs[1,0].set(xlabel='Density [kg m-1 s-1]')\n",
    "\n",
    "axs_4=axs[1,1].scatter(apr_mix['chlorophyll_a'],apr_mix['Abundance_base10'],10,c = apr_df['timestamp'],cmap='cool')\n",
    "# axs[1,1].set_title('Log10 of Abundance [individuals per m$^{{-3}}$]')\n",
    "axs[1,1].set(xlabel='Chlorophyll [μg L-1]')\n",
    "\n",
    "axs_5=axs[2,0].scatter(apr_mix['pH'],apr_mix['Abundance_base10'],10,c = apr_df['timestamp'],cmap='cool')\n",
    "# axs[1,1].set_title('Log10 of Abundance [individuals per m$^{{-3}}$]')\n",
    "axs[2,0].set(xlabel='pH')\n",
    "\n",
    "axs_6=axs[2,1].scatter(apr_mix['cdom'],apr_mix['Abundance_base10'],10,c = apr_df['timestamp'],cmap='cool')\n",
    "# axs[1,1].set_title('Log10 of Abundance [individuals per m$^{{-3}}$]')\n",
    "axs[2,1].set(xlabel='CDOM')\n",
    "\n",
    "for ax in axs.flat:\n",
    "    ax.set(ylabel='Log10 of Abundance [individuals per m$^{{-3}}$]')\n",
    "\n",
    "plt.tight_layout()\n",
    "plt.savefig(\"Apriltime.png\")"
   ]
  },
  {
   "cell_type": "markdown",
   "id": "234a199b-12f9-40c3-8651-1d86558b0416",
   "metadata": {},
   "source": [
    "### November 3rd to December 5th"
   ]
  },
  {
   "cell_type": "code",
   "execution_count": null,
   "id": "8b09d265-405c-4b15-b3fd-b9f74e43ce87",
   "metadata": {},
   "outputs": [],
   "source": [
    "fig,axs = plt.subplots(3,2, figsize=(15,12))\n",
    "\n",
    "axs_1=axs[0,0].scatter(nov_mix['temperature'],nov_mix['Abundance_base10'],10,c = nov_df['timestamp'],cmap='cool')\n",
    "# axs[0,0].set_title('Log10 of Abundance [individuals per m$^{{-3}}$]')\n",
    "axs[0,0].set(xlabel='Temperature [°C]')\n",
    "\n",
    "axs_2=axs[0,1].scatter(nov_mix['salinity'],nov_mix['Abundance_base10'],10,c = nov_df['timestamp'],cmap='cool')\n",
    "# axs[0,1].set_title('Log10 of Abundance [individuals per m$^{{-3}}$]')\n",
    "axs[0,1].set(xlabel='Salinity [psu]')\n",
    "\n",
    "axs_3=axs[1,0].scatter(nov_mix['density'],nov_mix['Abundance_base10'],10,c = nov_df['timestamp'],cmap='cool')\n",
    "# axs[1,0].set_title('Log10 of Abundance [individuals per m$^{{-3}}$]')\n",
    "axs[1,0].set(xlabel='Density [kg m-1 s-1]')\n",
    "\n",
    "axs_4=axs[1,1].scatter(nov_mix['chlorophyll_a'],nov_mix['Abundance_base10'],10,c = nov_df['timestamp'],cmap='cool')\n",
    "# axs[1,1].set_title('Log10 of Abundance [individuals per m$^{{-3}}$]')\n",
    "axs[1,1].set(xlabel='Chlorophyll [μg L-1]')\n",
    "\n",
    "axs_5=axs[2,0].scatter(nov_mix['pH'],nov_mix['Abundance_base10'],10,c = nov_df['timestamp'],cmap='cool')\n",
    "# axs[1,1].set_title('Log10 of Abundance [individuals per m$^{{-3}}$]')\n",
    "axs[2,0].set(xlabel='pH')\n",
    "\n",
    "axs_6=axs[2,1].scatter(nov_mix['cdom'],nov_mix['Abundance_base10'],10,c = nov_df['timestamp'],cmap='cool')\n",
    "# axs[1,1].set_title('Log10 of Abundance [individuals per m$^{{-3}}$]')\n",
    "axs[2,1].set(xlabel='CDOM')\n",
    "\n",
    "for ax in axs.flat:\n",
    "    ax.set(ylabel='Log10 of Abundance [individuals per m$^{{-3}}$]')\n",
    "\n",
    "plt.tight_layout()\n",
    "plt.savefig(\"Novembertime.png\")"
   ]
  },
  {
   "cell_type": "markdown",
   "id": "0015060b-06ed-4be8-b4d9-005c3605b7af",
   "metadata": {},
   "source": [
    "### Febuary 15th to March 14th"
   ]
  },
  {
   "cell_type": "code",
   "execution_count": null,
   "id": "2cb81db9-d118-4ee5-ab6a-6081e5d48ff0",
   "metadata": {},
   "outputs": [],
   "source": [
    "fig,axs = plt.subplots(3,2, figsize=(15,12))\n",
    "\n",
    "axs_1=axs[0,0].scatter(feb_mix['temperature'],feb_mix['Abundance_base10'],10,c = feb_df['timestamp'],cmap='cool')\n",
    "# axs[0,0].set_title('Log10 of Abundance [individuals per m$^{{-3}}$]')\n",
    "axs[0,0].set(xlabel='Temperature [°C]')\n",
    "\n",
    "axs_2=axs[0,1].scatter(feb_mix['salinity'],feb_mix['Abundance_base10'],10,c = feb_df['timestamp'],cmap='cool')\n",
    "# axs[0,1].set_title('Log10 of Abundance [individuals per m$^{{-3}}$]')\n",
    "axs[0,1].set(xlabel='Salinity [psu]')\n",
    "\n",
    "axs_3=axs[1,0].scatter(feb_mix['density'],feb_mix['Abundance_base10'],10,c = feb_df['timestamp'],cmap='cool')\n",
    "# axs[1,0].set_title('Log10 of Abundance [individuals per m$^{{-3}}$]')\n",
    "axs[1,0].set(xlabel='Density [kg m-1 s-1]')\n",
    "\n",
    "axs_4=axs[1,1].scatter(feb_mix['chlorophyll_a'],feb_mix['Abundance_base10'],10,c = feb_df['timestamp'],cmap='cool')\n",
    "# axs[1,1].set_title('Log10 of Abundance [individuals per m$^{{-3}}$]')\n",
    "axs[1,1].set(xlabel='Chlorophyll [μg L-1]')\n",
    "\n",
    "axs_5=axs[2,0].scatter(feb_mix['pH'],feb_mix['Abundance_base10'],10,c = feb_df['timestamp'],cmap='cool')\n",
    "# axs[1,0].set_title('Log10 of Abundance [individuals per m$^{{-3}}$]')\n",
    "axs[2,0].set(xlabel='pH')\n",
    "\n",
    "axs_6=axs[2,1].scatter(feb_mix['cdom'],feb_mix['Abundance_base10'],10,c = feb_df['timestamp'],cmap='cool')\n",
    "# axs[1,1].set_title('Log10 of Abundance [individuals per m$^{{-3}}$]')\n",
    "axs[2,1].set(xlabel='CDOM')\n",
    "\n",
    "for ax in axs.flat:\n",
    "    ax.set(ylabel='Log10 of Abundance [individuals per m$^{{-3}}$]')\n",
    "\n",
    "plt.tight_layout()\n",
    "plt.savefig(\"Febuarytime.png\")"
   ]
  },
  {
   "cell_type": "markdown",
   "id": "275a8f60-4b07-4e80-be60-56608ec38661",
   "metadata": {},
   "source": [
    "## Additional Plots"
   ]
  },
  {
   "cell_type": "code",
   "execution_count": null,
   "id": "bfc669c0-6311-4f68-87c5-7984f9d67057",
   "metadata": {},
   "outputs": [],
   "source": [
    "# Add some additional packages\n",
    "import cool_maps.plot as cplt\n",
    "import cartopy.crs as ccrs\n",
    "import cmocean.cm as cmo"
   ]
  },
  {
   "cell_type": "markdown",
   "id": "4de455b7-ca6b-46ef-90e0-1b78fc41520b",
   "metadata": {},
   "source": [
    "### Depth Profiles"
   ]
  },
  {
   "cell_type": "code",
   "execution_count": null,
   "id": "46c12997-7c16-405e-b7f0-98efe2874318",
   "metadata": {},
   "outputs": [],
   "source": [
    "# delete a few specified rows at index values 0, 15, 20.\n",
    "# Note that the index values do not always align to row numbers.\n",
    "# bm_no_outlier = apr_df.drop(labels=[1065,1142], axis=0)\n",
    "\n",
    "fig,axs = plt.subplots(3,2, figsize=(15,12))\n",
    "\n",
    "log10abundance1=axs[0,0].scatter(apr_df['timestamp'],-apr_df['Depth_mean'],10,c = apr_df['Abundance_base10'],cmap=cmo.matter)\n",
    "axs[0, 0].tick_params(axis='x',rotation=20,labelsize='small')\n",
    "axs[0, 0].set_title('Spring (Log10 of Abundance [individuals per m$^{{-3}}$])')\n",
    "plt.colorbar(log10abundance1)\n",
    "\n",
    "log10biomass1=axs[0,1].scatter(apr_df['timestamp'],-apr_df['Depth_mean'],10,c = apr_df['Biomass_base10'],cmap=cmo.algae)\n",
    "axs[0, 1].tick_params(axis='x',rotation=20,labelsize='small')\n",
    "axs[0, 1].set_title('Spring (Log10 of Biomass [grams per m$^{{-3}}$])')\n",
    "plt.colorbar(log10biomass1)\n",
    "\n",
    "log10abundance2=axs[1,0].scatter(nov_df['timestamp'],-nov_df['Depth_mean'],10,c = nov_df['Abundance_base10'],cmap=cmo.matter)\n",
    "axs[1, 0].tick_params(axis='x',rotation=20,labelsize='small')\n",
    "axs[1, 0].set_title('Fall (Log10 of Abundance [individuals per m$^{{-3}}$])')\n",
    "plt.colorbar(log10abundance2)\n",
    "\n",
    "log10biomass2=axs[1,1].scatter(nov_df['timestamp'],-nov_df['Depth_mean'],10,c = nov_df['Biomass_base10'],cmap=cmo.algae)\n",
    "axs[1, 1].tick_params(axis='x',rotation=20,labelsize='small')\n",
    "axs[1, 1].set_title('Fall (Log10 of Biomass [grams per m$^{{-3}}$])')\n",
    "plt.colorbar(log10biomass2)\n",
    "\n",
    "log10abundance3=axs[2,0].scatter(feb_df['timestamp'],-feb_df['Depth_mean'],10,c = feb_df['Abundance_base10'],cmap=cmo.matter)\n",
    "axs[2, 0].tick_params(axis='x',rotation=20,labelsize='small')\n",
    "axs[2, 0].set_title('Winter (Log10 of Abundance [individuals per m$^{{-3}}$])')\n",
    "plt.colorbar(log10abundance3)\n",
    "\n",
    "log10biomass3=axs[2,1].scatter(feb_df['timestamp'],-feb_df['Depth_mean'],10,c = feb_df['Biomass_base10'],cmap=cmo.algae)\n",
    "axs[2, 1].tick_params(axis='x',rotation=20,labelsize='small')\n",
    "axs[2, 1].set_title('Winter (Log10 of Biomass [grams per m$^{{-3}}$])')\n",
    "plt.colorbar(log10biomass3)\n",
    "\n",
    "for ax in axs.flat:\n",
    "    ax.set(ylabel='Mean Depth [m]')\n",
    "    \n",
    "plt.tight_layout()\n",
    "plt.savefig(\"scatter.png\")"
   ]
  },
  {
   "cell_type": "code",
   "execution_count": null,
   "id": "7667cf51-96d4-4023-9996-0efccf744b23",
   "metadata": {
    "editable": true,
    "slideshow": {
     "slide_type": ""
    },
    "tags": []
   },
   "outputs": [],
   "source": [
    "fig, axs = plt.subplots(2, 2, figsize=(15, 10))\n",
    "\n",
    "temp_2D = axs[0, 0].scatter(DE_420['timestamp'],-DE_420['depth'],10,c=DE_420['temperature'], marker=\"o\", edgecolors='none',cmap = cmo.thermal)\n",
    "axs[0, 0].tick_params(axis='x',rotation=45,labelsize='small')\n",
    "axs[0, 0].set_title('Temperature [°C]')\n",
    "plt.colorbar(temp_2D)\n",
    "\n",
    "sal_2D = axs[0, 1].scatter(DE_420['timestamp'],-DE_420['depth'],10,c=DE_420['salinity'], marker=\"o\", edgecolors='none',cmap = cmo.haline)\n",
    "axs[0, 1].tick_params(axis='x',rotation=45,labelsize='small')\n",
    "axs[0, 1].set_title('Salinity [psu]')\n",
    "plt.colorbar(sal_2D)\n",
    "\n",
    "dense_2D = axs[1, 0].scatter(DE_420['timestamp'],-DE_420['depth'],10,c=DE_420['density'], marker=\"o\", edgecolors='none',cmap = cmo.dense)\n",
    "axs[1, 0].tick_params(axis='x',rotation=45,labelsize='small')\n",
    "axs[1, 0].set_title('Density [kg m-1 s-1]')\n",
    "plt.colorbar(dense_2D)\n",
    "\n",
    "chlor_2D = axs[1, 1].scatter(DE_420['timestamp'],-DE_420['depth'],10,c=DE_420['chlorophyll_a'], marker=\"o\", edgecolors='none',cmap = cmo.algae)\n",
    "axs[1, 1].tick_params(axis='x',rotation=45,labelsize='small')\n",
    "axs[1, 1].set_title('Chlorophyll [μg L-1]')\n",
    "plt.colorbar(chlor_2D)\n",
    "\n",
    "for ax in axs.flat:\n",
    "    ax.set(ylabel='Depth [m]')\n",
    "    \n",
    "plt.suptitle('April 20th to May 12th')\n",
    "plt.tight_layout()\n",
    "plt.savefig(\"errdap.png\")"
   ]
  },
  {
   "cell_type": "code",
   "execution_count": null,
   "id": "3627555c-eb02-43d5-8a96-1a2fad5ebc12",
   "metadata": {},
   "outputs": [],
   "source": [
    "fig, axs = plt.subplots(2, 2, figsize=(15, 10))\n",
    "\n",
    "temp_2D = axs[0, 0].scatter(DE_1103['timestamp'],-DE_1103['depth'],10,c=DE_1103['temperature'], marker=\"o\", edgecolors='none',cmap = cmo.thermal)\n",
    "axs[0, 0].tick_params(axis='x',rotation=45,labelsize='small')\n",
    "axs[0, 0].set_title('Temperature [°C]')\n",
    "plt.colorbar(temp_2D)\n",
    "\n",
    "sal_2D = axs[0, 1].scatter(DE_1103['timestamp'],-DE_1103['depth'],10,c=DE_1103['salinity'], marker=\"o\", edgecolors='none',cmap = cmo.haline)\n",
    "axs[0, 1].tick_params(axis='x',rotation=45,labelsize='small')\n",
    "axs[0, 1].set_title('Salinity [psu]')\n",
    "plt.colorbar(sal_2D)\n",
    "\n",
    "dense_2D = axs[1, 0].scatter(DE_1103['timestamp'],-DE_1103['depth'],10,c=DE_1103['density'], marker=\"o\", edgecolors='none',cmap = cmo.dense)\n",
    "axs[1, 0].tick_params(axis='x',rotation=45,labelsize='small')\n",
    "axs[1, 0].set_title('Density [kg m-1 s-1]')\n",
    "plt.colorbar(dense_2D)\n",
    "\n",
    "chlor_2D = axs[1, 1].scatter(DE_1103['timestamp'],-DE_1103['depth'],10,c=DE_1103['chlorophyll_a'], marker=\"o\", edgecolors='none',cmap = cmo.algae)\n",
    "axs[1, 1].tick_params(axis='x',rotation=45,labelsize='small')\n",
    "axs[1, 1].set_title('Chlorophyll [μg L-1]')\n",
    "plt.colorbar(chlor_2D)\n",
    "\n",
    "for ax in axs.flat:\n",
    "    ax.set(ylabel='Depth [m]')\n",
    "\n",
    "plt.suptitle('November 3rd to December 5th')\n",
    "plt.tight_layout()\n",
    "plt.savefig(\"errdap.png\")"
   ]
  },
  {
   "cell_type": "code",
   "execution_count": null,
   "id": "bf406190-0d5b-4d1b-8a3c-2644d0bd8391",
   "metadata": {},
   "outputs": [],
   "source": [
    "fig, axs = plt.subplots(2, 2, figsize=(15, 10))\n",
    "\n",
    "temp_2D = axs[0, 0].scatter(DE_215['timestamp'],-DE_215['depth'],10,c=DE_215['temperature'], marker=\"o\", edgecolors='none',cmap = cmo.thermal)\n",
    "axs[0, 0].tick_params(axis='x',rotation=45,labelsize='small')\n",
    "axs[0, 0].set_title('Temperature [°C]')\n",
    "plt.colorbar(temp_2D)\n",
    "\n",
    "sal_2D = axs[0, 1].scatter(DE_215['timestamp'],-DE_215['depth'],10,c=DE_215['salinity'], marker=\"o\", edgecolors='none',cmap = cmo.haline)\n",
    "axs[0, 1].tick_params(axis='x',rotation=45,labelsize='small')\n",
    "axs[0, 1].set_title('Salinity [psu]')\n",
    "plt.colorbar(sal_2D)\n",
    "\n",
    "dense_2D = axs[1, 0].scatter(DE_215['timestamp'],-DE_215['depth'],10,c=DE_215['density'], marker=\"o\", edgecolors='none',cmap = cmo.dense)\n",
    "axs[1, 0].tick_params(axis='x',rotation=45,labelsize='small')\n",
    "axs[1, 0].set_title('Density [kg m-1 s-1]')\n",
    "plt.colorbar(dense_2D)\n",
    "\n",
    "chlor_2D = axs[1, 1].scatter(DE_215['timestamp'],-DE_215['depth'],10,c=DE_215['chlorophyll_a'], marker=\"o\", edgecolors='none',cmap = cmo.algae)\n",
    "axs[1, 1].tick_params(axis='x',rotation=45,labelsize='small')\n",
    "axs[1, 1].set_title('Chlorophyll [μg L-1]')\n",
    "plt.colorbar(chlor_2D)\n",
    "\n",
    "for ax in axs.flat:\n",
    "    ax.set(ylabel='Depth [m]')\n",
    "\n",
    "plt.suptitle('Febuary 15th to March 14th')\n",
    "plt.tight_layout()\n",
    "plt.savefig(\"errdap.png\")"
   ]
  },
  {
   "cell_type": "markdown",
   "id": "2b304211-ff18-417c-852a-7c1765ab2204",
   "metadata": {},
   "source": [
    "### Cartopy Maps"
   ]
  },
  {
   "cell_type": "code",
   "execution_count": null,
   "id": "96173c4a-6e8f-48fb-9eb0-177679fa7283",
   "metadata": {},
   "outputs": [],
   "source": [
    "extent     = [-75, -72.5, 38.4, 40.5]\n",
    "markersize = 5;\n",
    "\n",
    "fig,ax  = cplt.create(extent, proj=ccrs.Mercator(), bathymetry=True, isobaths=(-1000, -500, -100, -50, -20, -10), figsize=(10,6), oceancolor='w')\n",
    "ax_posi = plt.scatter(apr_df['Lon_M'],apr_df['Lat_M'],apr_df['Depth_mean'],c=apr_df['timestamp'], marker=\"o\", edgecolors='none',cmap='cool', transform=ccrs.PlateCarree())\n",
    "\n",
    "# Define your mappable for colorbar creation\n",
    "sm = plt.cm.ScalarMappable(cmap='cool', \n",
    "                           norm=plt.Normalize(vmin=apr_df['timestamp'].min().value,\n",
    "                                              vmax=apr_df['timestamp'].max().value));\n",
    "# Add the colorbar\n",
    "sm._A = [];\n",
    "cbar = plt.colorbar(sm, ax=ax);\n",
    "\n",
    "# Change the numeric ticks into ones that match. Time format options detailed here: https://docs.python.org/3/library/datetime.html#strftime-and-strptime-behavior\n",
    "cbar.ax.set_yticklabels(pd.to_datetime(cbar.get_ticks()).strftime(date_format='%b %d'));\n",
    "plt.savefig(\"map1.png\")"
   ]
  },
  {
   "cell_type": "code",
   "execution_count": null,
   "id": "8618940c-c363-4018-8acf-ef89e1a237ae",
   "metadata": {},
   "outputs": [],
   "source": [
    "extent     = [-75, -72.5, 38.4, 40.5]\n",
    "markersize = 5;\n",
    "\n",
    "fig,ax  = cplt.create(extent, proj=ccrs.Mercator(), bathymetry=True, isobaths=(-1000, -500, -100, -50, -20, -10), figsize=(10,6), oceancolor='w')\n",
    "ax_posi = plt.scatter(nov_df['Lon_M'],nov_df['Lat_M'],nov_df['Depth_mean'],c=nov_df['timestamp'], marker=\"o\", edgecolors='none',cmap='cool', transform=ccrs.PlateCarree())\n",
    "\n",
    "# Define your mappable for colorbar creation\n",
    "sm = plt.cm.ScalarMappable(cmap='cool', \n",
    "                           norm=plt.Normalize(vmin=apr_df['timestamp'].min().value,\n",
    "                                              vmax=apr_df['timestamp'].max().value));\n",
    "# Add the colorbar\n",
    "sm._A = [];\n",
    "cbar = plt.colorbar(sm, ax=ax);\n",
    "\n",
    "# Change the numeric ticks into ones that match. Time format options detailed here: https://docs.python.org/3/library/datetime.html#strftime-and-strptime-behavior\n",
    "cbar.ax.set_yticklabels(pd.to_datetime(cbar.get_ticks()).strftime(date_format='%b %d'));\n",
    "plt.savefig(\"map2.png\")"
   ]
  },
  {
   "cell_type": "code",
   "execution_count": null,
   "id": "65796b09-84fe-4db5-82fa-d3e607e77b4d",
   "metadata": {},
   "outputs": [],
   "source": [
    "extent     = [-75, -72.5, 38.4, 40.5]\n",
    "markersize = 5;\n",
    "\n",
    "fig,ax  = cplt.create(extent, proj=ccrs.Mercator(), bathymetry=True, isobaths=(-1000, -500, -100, -50, -20, -10), figsize=(10,6), oceancolor='w')\n",
    "ax_posi = plt.scatter(feb_df['Lon_M'],feb_df['Lat_M'],feb_df['Depth_mean'],c=feb_df['timestamp'], marker=\"o\", edgecolors='none',cmap='cool', transform=ccrs.PlateCarree())\n",
    "\n",
    "# Define your mappable for colorbar creation\n",
    "sm = plt.cm.ScalarMappable(cmap='cool', \n",
    "                           norm=plt.Normalize(vmin=apr_df['timestamp'].min().value,\n",
    "                                              vmax=apr_df['timestamp'].max().value));\n",
    "# Add the colorbar\n",
    "sm._A = [];\n",
    "cbar = plt.colorbar(sm, ax=ax);\n",
    "\n",
    "# Change the numeric ticks into ones that match. Time format options detailed here: https://docs.python.org/3/library/datetime.html#strftime-and-strptime-behavior\n",
    "cbar.ax.set_yticklabels(pd.to_datetime(cbar.get_ticks()).strftime(date_format='%b %d'));\n",
    "plt.savefig(\"map3.png\")"
   ]
  },
  {
   "cell_type": "markdown",
   "id": "8dede885-7408-44bd-8aca-171986da6db9",
   "metadata": {},
   "source": [
    "### Raw Depth vs. MLD"
   ]
  },
  {
   "cell_type": "code",
   "execution_count": null,
   "id": "438e6d8c-e0bf-471a-b7a0-df1bcecd64fd",
   "metadata": {},
   "outputs": [],
   "source": [
    "fig,axs = plt.subplots(3, figsize=(10,12))\n",
    "\n",
    "axs_1=axs[0].scatter(apr_mix_mld['mld'],apr_mix_mld['Biomass_base10'],5,c='red')\n",
    "axs[0].set(xlabel='Mixed Layer Depth [4/20 - 5/12]')\n",
    "axs[0].set(ylabel='Log10 of Biomass [grams per m$^{{-3}}$]')\n",
    "axs_2=axs[1].scatter(nov_mix_mld['mld'],nov_mix_mld['Biomass_base10'],5,c='blue')\n",
    "axs[1].set(xlabel='Mixed Layer Depth [11/3 - 12/5]')\n",
    "axs[1].set(ylabel='Log10 of Biomass [grams per m$^{{-3}}$]')\n",
    "axs_3=axs[2].scatter(feb_mix_mld['mld'],feb_mix_mld['Biomass_base10'],5,c='green')\n",
    "axs[2].set(xlabel='Mixed Layer Depth [2/15 - 3/14]')\n",
    "axs[2].set(ylabel='Log10 of Biomass [grams per m$^{{-3}}$]')\n",
    "plt.tight_layout()\n",
    "plt.savefig(\"mld.png\")"
   ]
  },
  {
   "cell_type": "code",
   "execution_count": null,
   "id": "d6ae819c-fbe0-4212-819c-d9515d0121f7",
   "metadata": {},
   "outputs": [],
   "source": []
  }
 ],
 "metadata": {
  "kernelspec": {
   "display_name": "Python 3 (ipykernel)",
   "language": "python",
   "name": "python3"
  },
  "language_info": {
   "codemirror_mode": {
    "name": "ipython",
    "version": 3
   },
   "file_extension": ".py",
   "mimetype": "text/x-python",
   "name": "python",
   "nbconvert_exporter": "python",
   "pygments_lexer": "ipython3",
   "version": "3.11.4"
  }
 },
 "nbformat": 4,
 "nbformat_minor": 5
}
